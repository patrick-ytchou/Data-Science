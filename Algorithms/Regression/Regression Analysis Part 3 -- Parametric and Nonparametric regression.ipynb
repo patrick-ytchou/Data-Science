{
 "cells": [
  {
   "cell_type": "markdown",
   "metadata": {},
   "source": [
    "# Linear Regression with Regularization"
   ]
  },
  {
   "cell_type": "markdown",
   "metadata": {},
   "source": [
    "## Table of Content"
   ]
  },
  {
   "cell_type": "markdown",
   "metadata": {},
   "source": [
    "[Regression Analysis Part 1: Assumptions for Linear Regression]\n",
    "\n",
    "[Regression Analysis Part 2: Linear Regression with Regularization]\n",
    "\n",
    "[Regression Analysis Part 3: Parametric and Nonparametric regression]\n",
    "\n",
    "[Regression Analysis Part 4: Deep Dive into Loss Functions]"
   ]
  },
  {
   "cell_type": "markdown",
   "metadata": {},
   "source": [
    "## Overview"
   ]
  },
  {
   "cell_type": "markdown",
   "metadata": {},
   "source": [
    "Machine Learning problem can be divided into two sub-categories -- **`Classification`** and **`Regression`** problem.\n",
    "* **`Classification`** refers to the task of assigning labels *`(yes/no, True/False, Ham/Spam)`* to data samples belonging to different classes. \n",
    "\n",
    "It can either be a two-class classification problem (mostly using **sigmoid function**) or a multi-class classifcation problem (mostly using **softmax function**). \n",
    "\n",
    "* **`Regression`**, on the other hand, refers to the task of predicting continuous values (scalar) by depicting the relationship between dependent variables and various independent features.\n",
    "\n",
    "`Linear Regression`, therefore, performs the task to predict a dependent variable value (y) based on a given independent variable (x) in a linear line. To find the line, **Ordinary Least Squared Method (OLS)** is widely used for regression problem. \n",
    "\n",
    "For complex problems, **`multivariate regression / Polynomial regression / Regularization term`** is utilized to enhance performance while at the same time restraining loss. "
   ]
  },
  {
   "cell_type": "markdown",
   "metadata": {},
   "source": [
    "In this notebook, we will first look at some basic assumptions behind a robust linear regression model.\n",
    "\n",
    "We will discuss what the assumptions are, and, if those assumptions are not satisfied, possible ways to transfrom our data."
   ]
  },
  {
   "cell_type": "markdown",
   "metadata": {},
   "source": [
    "---"
   ]
  },
  {
   "cell_type": "markdown",
   "metadata": {},
   "source": [
    "## Notebook Setting"
   ]
  },
  {
   "cell_type": "code",
   "execution_count": 20,
   "metadata": {},
   "outputs": [],
   "source": [
    "import numpy as np\n",
    "import pandas as pd\n",
    "import matplotlib.pyplot as plt\n",
    "import seaborn as sns\n",
    "from datetime import datetime\n",
    "import warnings\n",
    "warnings.filterwarnings('ignore')"
   ]
  },
  {
   "cell_type": "markdown",
   "metadata": {},
   "source": [
    "Here we will use the famous Boston Housing Dataset."
   ]
  },
  {
   "cell_type": "code",
   "execution_count": 50,
   "metadata": {},
   "outputs": [
    {
     "data": {
      "text/html": [
       "<div>\n",
       "<style scoped>\n",
       "    .dataframe tbody tr th:only-of-type {\n",
       "        vertical-align: middle;\n",
       "    }\n",
       "\n",
       "    .dataframe tbody tr th {\n",
       "        vertical-align: top;\n",
       "    }\n",
       "\n",
       "    .dataframe thead th {\n",
       "        text-align: right;\n",
       "    }\n",
       "</style>\n",
       "<table border=\"1\" class=\"dataframe\">\n",
       "  <thead>\n",
       "    <tr style=\"text-align: right;\">\n",
       "      <th></th>\n",
       "      <th>Target</th>\n",
       "      <th>CRIM</th>\n",
       "      <th>ZN</th>\n",
       "      <th>INDUS</th>\n",
       "      <th>CHAS</th>\n",
       "      <th>NOX</th>\n",
       "      <th>RM</th>\n",
       "      <th>AGE</th>\n",
       "      <th>DIS</th>\n",
       "      <th>RAD</th>\n",
       "      <th>TAX</th>\n",
       "      <th>PTRATIO</th>\n",
       "      <th>B</th>\n",
       "      <th>LSTAT</th>\n",
       "    </tr>\n",
       "  </thead>\n",
       "  <tbody>\n",
       "    <tr>\n",
       "      <th>0</th>\n",
       "      <td>24.0</td>\n",
       "      <td>0.00632</td>\n",
       "      <td>18.0</td>\n",
       "      <td>2.31</td>\n",
       "      <td>0.0</td>\n",
       "      <td>0.538</td>\n",
       "      <td>6.575</td>\n",
       "      <td>65.2</td>\n",
       "      <td>4.0900</td>\n",
       "      <td>1.0</td>\n",
       "      <td>296.0</td>\n",
       "      <td>15.3</td>\n",
       "      <td>396.90</td>\n",
       "      <td>4.98</td>\n",
       "    </tr>\n",
       "    <tr>\n",
       "      <th>1</th>\n",
       "      <td>21.6</td>\n",
       "      <td>0.02731</td>\n",
       "      <td>0.0</td>\n",
       "      <td>7.07</td>\n",
       "      <td>0.0</td>\n",
       "      <td>0.469</td>\n",
       "      <td>6.421</td>\n",
       "      <td>78.9</td>\n",
       "      <td>4.9671</td>\n",
       "      <td>2.0</td>\n",
       "      <td>242.0</td>\n",
       "      <td>17.8</td>\n",
       "      <td>396.90</td>\n",
       "      <td>9.14</td>\n",
       "    </tr>\n",
       "    <tr>\n",
       "      <th>2</th>\n",
       "      <td>34.7</td>\n",
       "      <td>0.02729</td>\n",
       "      <td>0.0</td>\n",
       "      <td>7.07</td>\n",
       "      <td>0.0</td>\n",
       "      <td>0.469</td>\n",
       "      <td>7.185</td>\n",
       "      <td>61.1</td>\n",
       "      <td>4.9671</td>\n",
       "      <td>2.0</td>\n",
       "      <td>242.0</td>\n",
       "      <td>17.8</td>\n",
       "      <td>392.83</td>\n",
       "      <td>4.03</td>\n",
       "    </tr>\n",
       "    <tr>\n",
       "      <th>3</th>\n",
       "      <td>33.4</td>\n",
       "      <td>0.03237</td>\n",
       "      <td>0.0</td>\n",
       "      <td>2.18</td>\n",
       "      <td>0.0</td>\n",
       "      <td>0.458</td>\n",
       "      <td>6.998</td>\n",
       "      <td>45.8</td>\n",
       "      <td>6.0622</td>\n",
       "      <td>3.0</td>\n",
       "      <td>222.0</td>\n",
       "      <td>18.7</td>\n",
       "      <td>394.63</td>\n",
       "      <td>2.94</td>\n",
       "    </tr>\n",
       "    <tr>\n",
       "      <th>4</th>\n",
       "      <td>36.2</td>\n",
       "      <td>0.06905</td>\n",
       "      <td>0.0</td>\n",
       "      <td>2.18</td>\n",
       "      <td>0.0</td>\n",
       "      <td>0.458</td>\n",
       "      <td>7.147</td>\n",
       "      <td>54.2</td>\n",
       "      <td>6.0622</td>\n",
       "      <td>3.0</td>\n",
       "      <td>222.0</td>\n",
       "      <td>18.7</td>\n",
       "      <td>396.90</td>\n",
       "      <td>5.33</td>\n",
       "    </tr>\n",
       "  </tbody>\n",
       "</table>\n",
       "</div>"
      ],
      "text/plain": [
       "   Target     CRIM    ZN  INDUS  CHAS    NOX     RM   AGE     DIS  RAD    TAX  \\\n",
       "0    24.0  0.00632  18.0   2.31   0.0  0.538  6.575  65.2  4.0900  1.0  296.0   \n",
       "1    21.6  0.02731   0.0   7.07   0.0  0.469  6.421  78.9  4.9671  2.0  242.0   \n",
       "2    34.7  0.02729   0.0   7.07   0.0  0.469  7.185  61.1  4.9671  2.0  242.0   \n",
       "3    33.4  0.03237   0.0   2.18   0.0  0.458  6.998  45.8  6.0622  3.0  222.0   \n",
       "4    36.2  0.06905   0.0   2.18   0.0  0.458  7.147  54.2  6.0622  3.0  222.0   \n",
       "\n",
       "   PTRATIO       B  LSTAT  \n",
       "0     15.3  396.90   4.98  \n",
       "1     17.8  396.90   9.14  \n",
       "2     17.8  392.83   4.03  \n",
       "3     18.7  394.63   2.94  \n",
       "4     18.7  396.90   5.33  "
      ]
     },
     "execution_count": 50,
     "metadata": {},
     "output_type": "execute_result"
    }
   ],
   "source": [
    "from sklearn.datasets import load_boston\n",
    "\n",
    "boston_dataset = load_boston()\n",
    "\n",
    "boston = pd.DataFrame(boston_dataset.data, columns=boston_dataset.feature_names)\n",
    "boston['Target'] = boston_dataset.target\n",
    "boston = boston[boston.columns[-1:].append(boston.columns[:-1])]\n",
    "boston.head()"
   ]
  },
  {
   "cell_type": "code",
   "execution_count": 67,
   "metadata": {},
   "outputs": [
    {
     "data": {
      "text/plain": [
       "False"
      ]
     },
     "execution_count": 67,
     "metadata": {},
     "output_type": "execute_result"
    }
   ],
   "source": [
    "boston.isnull().values.any()"
   ]
  },
  {
   "cell_type": "markdown",
   "metadata": {},
   "source": [
    "**No null value is detected. It's good to go!**"
   ]
  },
  {
   "cell_type": "markdown",
   "metadata": {},
   "source": [
    "---"
   ]
  },
  {
   "cell_type": "markdown",
   "metadata": {},
   "source": [
    "## Loss Function"
   ]
  },
  {
   "cell_type": "markdown",
   "metadata": {},
   "source": [
    "To evaluate the performance of the regression model, various loss functions are introduced and are preferred in different scenario."
   ]
  },
  {
   "cell_type": "markdown",
   "metadata": {},
   "source": [
    "<img src='loss_all.png' width=\"400\" height=\"150\">"
   ]
  },
  {
   "cell_type": "markdown",
   "metadata": {},
   "source": [
    "We will first **`RMSE (Root Mean Squared Error)`** to evaluate the practice toy example below. At the end of this notebook, we will dive deeper into difference loss function / metrics as well as their respective strength and weaknesses"
   ]
  },
  {
   "cell_type": "markdown",
   "metadata": {},
   "source": [
    "## Preparation"
   ]
  },
  {
   "cell_type": "code",
   "execution_count": 7,
   "metadata": {},
   "outputs": [],
   "source": [
    "from sklearn.linear_model import LinearRegression, LassoCV, RidgeCV, ElasticNetCV\n",
    "from sklearn.model_selection import train_test_split"
   ]
  },
  {
   "cell_type": "code",
   "execution_count": 8,
   "metadata": {},
   "outputs": [],
   "source": [
    "X = boston.drop(columns=['Target'])\n",
    "y = boston['Target']"
   ]
  },
  {
   "cell_type": "code",
   "execution_count": 9,
   "metadata": {},
   "outputs": [],
   "source": [
    "X_train, X_test, y_train, y_test = train_test_split(X, y, test_size=0.3)"
   ]
  },
  {
   "cell_type": "markdown",
   "metadata": {},
   "source": [
    "## Linear Regression from Scratch"
   ]
  },
  {
   "cell_type": "markdown",
   "metadata": {},
   "source": [
    "One approch to solve linear regression problem is to get the closed-form solution as below:"
   ]
  },
  {
   "cell_type": "markdown",
   "metadata": {},
   "source": [
    "<img src='closedform.png' width=\"300\" height=\"150\">"
   ]
  },
  {
   "cell_type": "markdown",
   "metadata": {},
   "source": [
    "Another appraoch to solve this problem is through gradient descent."
   ]
  },
  {
   "cell_type": "code",
   "execution_count": 350,
   "metadata": {},
   "outputs": [],
   "source": [
    "class LinearRegression:\n",
    "    def __init__(self, fit_intercept = True, lr = 0.00000001,  n_iter = int(1e5)):\n",
    "        \"\"\"\n",
    "        Initialize trhe calss\n",
    "        fit_intercept: Boolean switch to indicate whether \n",
    "                       to include an intercept in the model.\n",
    "        \"\"\"\n",
    "        self.coef_ = None\n",
    "        self.intercept_ = None\n",
    "        self._fit_intercept = fit_intercept\n",
    "        self.n_features = X.shape[1]\n",
    "        self.n_samples = len(y)\n",
    "        self.n_iter = n_iter\n",
    "        self.lr = lr\n",
    "        self.X = np.hstack((np.ones((self.n_samples, 1)), # initialize the bias term\n",
    "                            (X - np.mean(X, 0)) / np.std(X, 0))) # z-score\n",
    "        self.y = y[:, np.newaxis] # \n",
    "        self.params = np.random.random((X.shape[1] + 1, 1)) / 10 # randomize coefficients\n",
    "\n",
    "    def __repr__(self): # show discription when called\n",
    "        return \"I am a Linear Regression model!\"\n",
    "    \n",
    "    def fit(self, X, y, gradient = False):\n",
    "        \"\"\"\n",
    "        Fit model coefficients.\n",
    "        \n",
    "        Arguments:\n",
    "        X: 1D or 2D numpy array\n",
    "        y: 1D numpy array\n",
    "        gradient: if True, use gradient descent. if False, use closed-form solution.\n",
    "        \"\"\"\n",
    "        if gradient: # gradient descent\n",
    "\n",
    "            for iteration in range(self.n_iter):\n",
    "                # Hypothesis Values\n",
    "                loss = self.X.dot(self.params) - self.y\n",
    "\n",
    "                # Gradient Calculation\n",
    "                gradient = self.X.T.dot(loss) / self.n_samples\n",
    "                \n",
    "                # Changing Values of B using Gradient\n",
    "                self.params = self.params - self.lr * gradient\n",
    "                \n",
    "            if self._fit_intercept:\n",
    "                self.intercept_ = self.params[0]\n",
    "                self.coef_ = self.params[1:]            \n",
    "\n",
    "            \n",
    "        else: # closed-form solution\n",
    "            \n",
    "            # check if X is 1D or 2D array\n",
    "            if len(X.shape) == 1:\n",
    "                X = X.reshape(-1,1)\n",
    "\n",
    "            # add bias if fit_intercept is True\n",
    "            if self._fit_intercept:\n",
    "                X_biased = np.c_[np.ones(X.shape[0]), X]\n",
    "            else:\n",
    "                X_biased = X\n",
    "\n",
    "            # closed form solution\n",
    "            xTx = np.dot(X_biased.T, X_biased)\n",
    "            inverse_xTx = np.linalg.inv(xTx)\n",
    "            xTy = np.dot(X_biased.T, y)\n",
    "            self.params = np.dot(inverse_xTx, xTy)\n",
    "\n",
    "            # set attributes\n",
    "            if self._fit_intercept:\n",
    "                self.intercept_ = self.params[0]\n",
    "                self.coef_ = self.params[1:]\n",
    "    \n",
    "    def predict(self, X):\n",
    "        \"\"\"\n",
    "        Output model prediction.\n",
    "        \n",
    "        Arguments:\n",
    "        X: 1D or 2D numpy array.\n",
    "        \"\"\"\n",
    "        \n",
    "        # check if X is 1D or 2D array\n",
    "        if len(X.shape) == 1:\n",
    "            X = X.reshape(-1,1)\n",
    "        \n",
    "        self.predicted_ = self.intercept_ + np.dot(X, self.coef_)\n",
    "        return(self.predicted_)"
   ]
  },
  {
   "cell_type": "code",
   "execution_count": 237,
   "metadata": {},
   "outputs": [],
   "source": [
    "mlr = LinearRegression()"
   ]
  },
  {
   "cell_type": "code",
   "execution_count": 238,
   "metadata": {},
   "outputs": [
    {
     "name": "stdout",
     "output_type": "stream",
     "text": [
      "I am a Linear Regression model!\n",
      "None\n"
     ]
    }
   ],
   "source": [
    "print(mlr)\n",
    "print(mlr.coef_)"
   ]
  },
  {
   "cell_type": "code",
   "execution_count": 239,
   "metadata": {},
   "outputs": [],
   "source": [
    "mlr.fit(X_train, y_train, gradient=False)"
   ]
  },
  {
   "cell_type": "code",
   "execution_count": 240,
   "metadata": {},
   "outputs": [
    {
     "name": "stdout",
     "output_type": "stream",
     "text": [
      "I am a Linear Regression model!\n",
      "The coefficients are [ -0.0964   0.0352   0.0288   2.5155 -16.5174   3.9191   0.0063  -1.3609\n",
      "   0.293   -0.0111  -1.0205   0.0093  -0.5455].\n"
     ]
    }
   ],
   "source": [
    "print(mlr)\n",
    "print(f'The coefficients are {mlr.coef_}.')"
   ]
  },
  {
   "cell_type": "code",
   "execution_count": 241,
   "metadata": {},
   "outputs": [
    {
     "name": "stdout",
     "output_type": "stream",
     "text": [
      "The intercept for this regression line is 35.401846309894154.\n"
     ]
    }
   ],
   "source": [
    "print(f'The intercept for this regression line is {mlr.intercept_}.')"
   ]
  },
  {
   "cell_type": "code",
   "execution_count": 242,
   "metadata": {},
   "outputs": [],
   "source": [
    "pred = mlr.predict(X_test)"
   ]
  },
  {
   "cell_type": "code",
   "execution_count": 243,
   "metadata": {},
   "outputs": [
    {
     "data": {
      "text/plain": [
       "4.039883672665205"
      ]
     },
     "execution_count": 243,
     "metadata": {},
     "output_type": "execute_result"
    }
   ],
   "source": [
    "rmse(pred, y_test)"
   ]
  },
  {
   "cell_type": "code",
   "execution_count": 168,
   "metadata": {},
   "outputs": [
    {
     "data": {
      "text/plain": [
       "24.0"
      ]
     },
     "execution_count": 168,
     "metadata": {},
     "output_type": "execute_result"
    }
   ],
   "source": []
  },
  {
   "cell_type": "code",
   "execution_count": 347,
   "metadata": {},
   "outputs": [],
   "source": [
    "mlr = LinearRegression()\n",
    "mlr.fit(X_train, y_train, gradient=True)"
   ]
  },
  {
   "cell_type": "code",
   "execution_count": 348,
   "metadata": {},
   "outputs": [
    {
     "name": "stdout",
     "output_type": "stream",
     "text": [
      "I am a Linear Regression model!\n",
      "The coefficients are [[0.0131]\n",
      " [0.0848]\n",
      " [0.0302]\n",
      " [0.0113]\n",
      " [0.0932]\n",
      " [0.0946]\n",
      " [0.01  ]\n",
      " [0.0074]\n",
      " [0.0416]\n",
      " [0.038 ]\n",
      " [0.0098]\n",
      " [0.0122]\n",
      " [0.061 ]].\n"
     ]
    }
   ],
   "source": [
    "print(mlr)\n",
    "print(f'The coefficients are {mlr.coef_}.')"
   ]
  },
  {
   "cell_type": "code",
   "execution_count": 349,
   "metadata": {},
   "outputs": [
    {
     "data": {
      "text/plain": [
       "array([13.449])"
      ]
     },
     "execution_count": 349,
     "metadata": {},
     "output_type": "execute_result"
    }
   ],
   "source": [
    "pred = mlr.predict(X_test)\n",
    "rmse(pred, y_test)"
   ]
  },
  {
   "cell_type": "markdown",
   "metadata": {},
   "source": [
    "## Benchmark -- Ordinary Least Square (OLS)"
   ]
  },
  {
   "cell_type": "markdown",
   "metadata": {},
   "source": [
    "A normal linear regression is a statistical method that models the relationship between variables. In regression, it is believed that the relationship between two variables can be explained by the formula:"
   ]
  },
  {
   "cell_type": "markdown",
   "metadata": {},
   "source": [
    "<img src='lr.png' width=\"200\" height=\"100\">"
   ]
  },
  {
   "cell_type": "markdown",
   "metadata": {},
   "source": [
    "<img src='error.png' width=\"400\" height=\"150\">"
   ]
  },
  {
   "cell_type": "markdown",
   "metadata": {},
   "source": [
    "**`εi`**: the error term between the line and the data point\n",
    "\n",
    "**`α`** : intercept of the regression time. \n",
    "\n",
    "**`β`** : coefficient of the variable. It represents the variation of the dependent variable when the independent variable changes.\n",
    "\n",
    "**`α, β`** are the unobserved parameters that we want to retrieve from this regression model."
   ]
  },
  {
   "cell_type": "code",
   "execution_count": 10,
   "metadata": {},
   "outputs": [],
   "source": [
    "lr = LinearRegression(normalize=True)"
   ]
  },
  {
   "cell_type": "code",
   "execution_count": 11,
   "metadata": {},
   "outputs": [
    {
     "data": {
      "text/plain": [
       "LinearRegression(copy_X=True, fit_intercept=True, n_jobs=None, normalize=True)"
      ]
     },
     "execution_count": 11,
     "metadata": {},
     "output_type": "execute_result"
    }
   ],
   "source": [
    "lr.fit(X_train, y_train)"
   ]
  },
  {
   "cell_type": "code",
   "execution_count": 12,
   "metadata": {},
   "outputs": [],
   "source": [
    "lr_pred = lr.predict(X_test)"
   ]
  },
  {
   "cell_type": "code",
   "execution_count": 119,
   "metadata": {},
   "outputs": [],
   "source": [
    "# Calculate root mean squared error\n",
    "def rmse(pred, y_test):\n",
    "    sum_err = 0.0\n",
    "    y = y_test.values\n",
    "    for i in range(len(y_test)):\n",
    "        err = pred[i] - y[i]\n",
    "        sum_err += (err**2)\n",
    "    return(np.sqrt(sum_err / float(len(pred))))"
   ]
  },
  {
   "cell_type": "code",
   "execution_count": 14,
   "metadata": {},
   "outputs": [
    {
     "data": {
      "text/plain": [
       "4.872627447456344"
      ]
     },
     "execution_count": 14,
     "metadata": {},
     "output_type": "execute_result"
    }
   ],
   "source": [
    "rmse(lr_pred, y_test)"
   ]
  },
  {
   "cell_type": "markdown",
   "metadata": {},
   "source": [
    "## Why Regularization is important?"
   ]
  },
  {
   "cell_type": "markdown",
   "metadata": {},
   "source": [
    "<img src=\"regu.png\" width=\"600\" height=\"400\">"
   ]
  },
  {
   "cell_type": "markdown",
   "metadata": {},
   "source": [
    "Source: https://www.researchgate.net/figure/A-schematic-illustration-of-how-different-regularization-terms-lead-to-sparse-and_fig3_236461343"
   ]
  },
  {
   "cell_type": "markdown",
   "metadata": {},
   "source": [
    "## Lasso Regression (L1 Regularization)"
   ]
  },
  {
   "cell_type": "markdown",
   "metadata": {},
   "source": [
    "<img src=\"lasso.png\" width=\"600\" height=\"400\">"
   ]
  },
  {
   "cell_type": "markdown",
   "metadata": {},
   "source": [
    "pic source: https://www.analyticsvidhya.com/blog/2016/01/complete-tutorial-ridge-lasso-regression-python/"
   ]
  },
  {
   "cell_type": "code",
   "execution_count": 15,
   "metadata": {},
   "outputs": [],
   "source": [
    "lasso = LassoCV(normalize=True, cv = 5)"
   ]
  },
  {
   "cell_type": "code",
   "execution_count": 16,
   "metadata": {},
   "outputs": [],
   "source": [
    "lasso.fit(X_train, y_train)\n",
    "lasso_pred = lasso.predict(X_test)"
   ]
  },
  {
   "cell_type": "code",
   "execution_count": 17,
   "metadata": {},
   "outputs": [
    {
     "data": {
      "text/plain": [
       "4.866166107262425"
      ]
     },
     "execution_count": 17,
     "metadata": {},
     "output_type": "execute_result"
    }
   ],
   "source": [
    "rmse(lasso_pred,y_test)"
   ]
  },
  {
   "cell_type": "markdown",
   "metadata": {},
   "source": [
    "### L1 Regularization as a Feature Selection Tool"
   ]
  },
  {
   "cell_type": "markdown",
   "metadata": {},
   "source": [
    "Lasso regression is widely used in feature selection, since it can shrink the coeffiecient of non-important features to zero.\n",
    "\n",
    "https://towardsdatascience.com/feature-selection-using-regularisation-a3678b71e499"
   ]
  },
  {
   "cell_type": "code",
   "execution_count": 18,
   "metadata": {},
   "outputs": [],
   "source": [
    "from sklearn.preprocessing import StandardScaler\n",
    "from sklearn.feature_selection import SelectFromModel"
   ]
  },
  {
   "cell_type": "code",
   "execution_count": 19,
   "metadata": {},
   "outputs": [
    {
     "data": {
      "text/plain": [
       "StandardScaler(copy=True, with_mean=True, with_std=True)"
      ]
     },
     "execution_count": 19,
     "metadata": {},
     "output_type": "execute_result"
    }
   ],
   "source": [
    "scaler = StandardScaler()\n",
    "scaler.fit(X_train)"
   ]
  },
  {
   "cell_type": "code",
   "execution_count": 20,
   "metadata": {},
   "outputs": [
    {
     "data": {
      "text/plain": [
       "SelectFromModel(estimator=LassoCV(alphas=None, copy_X=True, cv='warn', eps=0.001, fit_intercept=True,\n",
       "    max_iter=1000, n_alphas=100, n_jobs=None, normalize=False,\n",
       "    positive=False, precompute='auto', random_state=None,\n",
       "    selection='cyclic', tol=0.0001, verbose=False),\n",
       "        max_features=None, norm_order=1, prefit=False, threshold=None)"
      ]
     },
     "execution_count": 20,
     "metadata": {},
     "output_type": "execute_result"
    }
   ],
   "source": [
    "selector = SelectFromModel(LassoCV())\n",
    "selector.fit(scaler.transform(X_train), y_train)"
   ]
  },
  {
   "cell_type": "code",
   "execution_count": 21,
   "metadata": {
    "scrolled": true
   },
   "outputs": [
    {
     "data": {
      "text/plain": [
       "array([ True,  True,  True,  True,  True,  True,  True,  True,  True,\n",
       "        True,  True,  True,  True])"
      ]
     },
     "execution_count": 21,
     "metadata": {},
     "output_type": "execute_result"
    }
   ],
   "source": [
    "selector.get_support()"
   ]
  },
  {
   "cell_type": "markdown",
   "metadata": {},
   "source": [
    "If return == 'True', it means that the variable is important (will not shrink to zero.)\n",
    "\n",
    "\n",
    "If return == 'False', it means that the variable is not important and will shrink to zero!\n",
    "\n",
    "If so, we can drop those features.\n",
    "\n",
    "\n",
    "For now, it's good to go!"
   ]
  },
  {
   "cell_type": "markdown",
   "metadata": {},
   "source": [
    "---"
   ]
  },
  {
   "cell_type": "markdown",
   "metadata": {},
   "source": [
    "## Ridge Regression"
   ]
  },
  {
   "cell_type": "markdown",
   "metadata": {},
   "source": [
    "<img src=\"ridge.png\" width=\"600\" height=\"400\">"
   ]
  },
  {
   "cell_type": "markdown",
   "metadata": {},
   "source": [
    "pic source: https://www.analyticsvidhya.com/blog/2016/01/complete-tutorial-ridge-lasso-regression-python/"
   ]
  },
  {
   "cell_type": "code",
   "execution_count": 22,
   "metadata": {},
   "outputs": [],
   "source": [
    "ridge = RidgeCV(normalize=True, cv = 5, gcv_mode='auto')"
   ]
  },
  {
   "cell_type": "code",
   "execution_count": 23,
   "metadata": {},
   "outputs": [],
   "source": [
    "ridge.fit(X_train,y_train)\n",
    "ridge_pred = ridge.predict(X_test)"
   ]
  },
  {
   "cell_type": "code",
   "execution_count": 24,
   "metadata": {},
   "outputs": [
    {
     "data": {
      "text/plain": [
       "4.950150317071678"
      ]
     },
     "execution_count": 24,
     "metadata": {},
     "output_type": "execute_result"
    }
   ],
   "source": [
    "rmse(ridge_pred,y_test)"
   ]
  },
  {
   "cell_type": "code",
   "execution_count": null,
   "metadata": {},
   "outputs": [],
   "source": []
  },
  {
   "cell_type": "markdown",
   "metadata": {},
   "source": [
    "### Let's compare the result with polynomial features!"
   ]
  },
  {
   "cell_type": "markdown",
   "metadata": {},
   "source": [
    "The order for polynomial coefficient is `['intercept', 'x0', 'x1', 'x0^2', 'x0 x1', 'x1^2']`\n",
    "\n",
    "Thus, we will retrieve the coef for the 13 variables with slicer `[1:14]`"
   ]
  },
  {
   "cell_type": "code",
   "execution_count": 25,
   "metadata": {},
   "outputs": [],
   "source": [
    "from sklearn.preprocessing import PolynomialFeatures\n",
    "from sklearn.pipeline import Pipeline"
   ]
  },
  {
   "cell_type": "code",
   "execution_count": 34,
   "metadata": {},
   "outputs": [],
   "source": [
    "poly = np.arange(1,6)\n",
    "def regression(poly, model_string):\n",
    "    \n",
    "    if model_string == 'linear':\n",
    "        model = LinearRegression(normalize=True)\n",
    "    elif model_string == 'lasso':\n",
    "        model = LassoCV(normalize=True, cv = 5)\n",
    "    elif model_string == 'ridge':\n",
    "        model = RidgeCV(normalize=True, cv = 5, gcv_mode='auto')\n",
    "    elif model_string == 'elastic':\n",
    "        model = ElasticNetCV(normalize=True, cv = 5)\n",
    "    else:\n",
    "        model = False\n",
    "    \n",
    "    if model != False:\n",
    "        err_set = []\n",
    "        coef_set = []\n",
    "        for i in poly:\n",
    "            start = datetime.now()\n",
    "            mod = Pipeline(steps=[    \n",
    "            ('polynomial',PolynomialFeatures(i)),\n",
    "            ('model',model)\n",
    "            ])\n",
    "            mod.fit(X_train, y_train)\n",
    "            pred = mod.predict(X_test)\n",
    "            error = rmse(pred, y_test)\n",
    "            coef = [np.round(i,2) for i in mod.named_steps['model'].coef_[1:boston.shape[1]]] # retrieve coef from model within the pipeline\n",
    "            print(f\"Power: {i} Error: {error:.4f} Time: {datetime.now() - start}\")\n",
    "            print(f\"Coef: {coef}\")\n",
    "            err_set.append(error)\n",
    "            coef_set.append(coef)\n",
    "        return(err_set, coef_set)\n",
    "    else:\n",
    "        print('Please select model from \"linear\", \"lasso\", and \"ridge\".')"
   ]
  },
  {
   "cell_type": "code",
   "execution_count": 31,
   "metadata": {},
   "outputs": [
    {
     "name": "stdout",
     "output_type": "stream",
     "text": [
      "Power: 1 Error: 4.8726 Time: 0:00:00.003805\n",
      "Coef: [-0.11, 0.05, -0.05, 3.21, -17.44, 3.94, -0.01, -1.54, 0.36, -0.01, -0.92, 0.01, -0.45]\n",
      "Power: 2 Error: 3.7097 Time: 0:00:00.016734\n",
      "Coef: [0.21, 0.08, -5.39, 10.2, 1.42, 4.9, 1.15, -7.33, 3.46, 0.03, 0.35, -0.05, -0.42]\n",
      "Power: 3 Error: 95.4778 Time: 0:00:00.055040\n",
      "Coef: [18.91, 10.92, -16.78, 33.45, -2852.92, -1049.48, -19.17, 39.54, 63.14, 1.3, 17.15, -3.87, 20.45]\n",
      "Power: 4 Error: 28.8051 Time: 0:00:00.133760\n",
      "Coef: [-0.82, 0.18, 2.64, 0.36, 242.81, 56.88, -1.06, -11.96, 0.64, 0.0, -2.56, -0.03, 2.73]\n",
      "Power: 5 Error: 26.4644 Time: 0:00:00.467118\n",
      "Coef: [-0.21, 0.01, 0.53, -0.09, 74.04, 20.86, -0.25, -3.09, 0.21, -0.0, -2.03, -0.01, 0.69]\n"
     ]
    }
   ],
   "source": [
    "lin_err, lin_coef = regression(poly, 'linear')"
   ]
  },
  {
   "cell_type": "code",
   "execution_count": 32,
   "metadata": {},
   "outputs": [
    {
     "name": "stdout",
     "output_type": "stream",
     "text": [
      "Power: 1 Error: 4.8662 Time: 0:00:00.062687\n",
      "Coef: [-0.11, 0.04, -0.05, 3.21, -17.22, 3.96, -0.01, -1.51, 0.35, -0.01, -0.92, 0.01, -0.45]\n",
      "Power: 2 Error: 3.9077 Time: 0:00:00.676004\n",
      "Coef: [0.07, -0.23, 0.42, 0.0, 0.0, -0.0, 0.11, -0.0, 0.0, -0.0, -0.0, 0.04, -0.29]\n",
      "Power: 3 Error: 4.1019 Time: 0:00:15.499635\n",
      "Coef: [-0.0, -0.0, 0.0, 0.0, -0.0, 0.0, 0.0, -0.62, 0.32, 0.0, -0.0, 0.0, -0.0]\n",
      "Power: 4 Error: 3.9545 Time: 0:01:23.787725\n",
      "Coef: [-0.0, 0.0, -0.0, -0.0, -0.0, 0.0, 0.05, -0.94, 0.0, 0.0, -0.0, 0.0, -0.0]\n",
      "Power: 5 Error: 4.6448 Time: 0:06:35.422125\n",
      "Coef: [-0.0, -0.0, 0.0, 0.0, -0.0, 0.0, 0.0, -0.0, 0.0, 0.0, -0.0, 0.0, -0.0]\n"
     ]
    }
   ],
   "source": [
    "lasso_err, lasso_coef = regression(poly, 'lasso')"
   ]
  },
  {
   "cell_type": "code",
   "execution_count": 33,
   "metadata": {},
   "outputs": [
    {
     "name": "stdout",
     "output_type": "stream",
     "text": [
      "Power: 1 Error: 4.9502 Time: 0:00:00.036065\n",
      "Coef: [-0.08, 0.02, -0.09, 3.41, -11.05, 4.16, -0.01, -1.03, 0.16, -0.0, -0.81, 0.01, -0.4]\n",
      "Power: 2 Error: 4.3506 Time: 0:00:00.042659\n",
      "Coef: [0.0, -0.01, 0.03, 0.27, -2.5, 1.64, 0.01, -0.21, 0.08, -0.0, -0.22, 0.0, -0.04]\n"
     ]
    },
    {
     "name": "stderr",
     "output_type": "stream",
     "text": [
      "/Users/ytchou/anaconda3/lib/python3.7/site-packages/sklearn/model_selection/_search.py:842: DeprecationWarning: The default of the `iid` parameter will change from True to False in version 0.22 and will be removed in 0.24. This will change numeric results when test-set sizes are unequal.\n",
      "  DeprecationWarning)\n"
     ]
    },
    {
     "name": "stdout",
     "output_type": "stream",
     "text": [
      "Power: 3 Error: 4.1180 Time: 0:00:00.483280\n",
      "Coef: [0.0, -0.01, 0.01, -0.1, 0.58, 0.89, 0.01, -0.17, 0.05, 0.0, -0.1, 0.0, -0.01]\n",
      "Power: 4 Error: 4.3446 Time: 0:00:00.759190\n",
      "Coef: [0.0, -0.0, -0.01, -0.18, 0.21, 0.67, 0.01, -0.11, 0.03, 0.0, -0.06, 0.0, -0.01]\n",
      "Power: 5 Error: 4.6731 Time: 0:00:00.946291\n",
      "Coef: [-0.0, -0.0, -0.0, -0.03, -0.03, 0.22, 0.0, -0.02, 0.01, 0.0, -0.02, 0.0, -0.0]\n"
     ]
    },
    {
     "name": "stderr",
     "output_type": "stream",
     "text": [
      "/Users/ytchou/anaconda3/lib/python3.7/site-packages/sklearn/model_selection/_search.py:842: DeprecationWarning: The default of the `iid` parameter will change from True to False in version 0.22 and will be removed in 0.24. This will change numeric results when test-set sizes are unequal.\n",
      "  DeprecationWarning)\n"
     ]
    }
   ],
   "source": [
    "ridge_err, ridge_coef = regression(poly, 'ridge')"
   ]
  },
  {
   "cell_type": "code",
   "execution_count": 35,
   "metadata": {},
   "outputs": [
    {
     "name": "stdout",
     "output_type": "stream",
     "text": [
      "Power: 1 Error: 4.9811 Time: 0:00:00.056917\n",
      "Coef: [-0.08, 0.02, -0.1, 3.39, -10.13, 4.16, -0.01, -0.94, 0.13, -0.0, -0.78, 0.01, -0.39]\n",
      "Power: 2 Error: 4.4301 Time: 0:00:00.417989\n",
      "Coef: [-0.0, -0.0, 0.02, 0.17, -2.79, 1.58, 0.0, -0.16, 0.07, -0.0, -0.24, 0.0, -0.05]\n",
      "Power: 3 Error: 4.2081 Time: 0:00:21.568463\n",
      "Coef: [0.0, -0.0, 0.02, -0.0, 0.28, 0.81, 0.0, -0.12, 0.04, 0.0, -0.1, 0.0, -0.01]\n",
      "Power: 4 Error: 4.2758 Time: 0:02:08.451227\n",
      "Coef: [-0.0, -0.0, -0.0, -0.0, 0.0, 0.57, 0.0, -0.07, 0.02, 0.0, -0.07, 0.0, -0.01]\n",
      "Power: 5 Error: 4.5289 Time: 0:08:21.072499\n",
      "Coef: [-0.0, -0.0, -0.0, -0.0, -0.0, 0.33, 0.0, -0.03, 0.01, -0.0, -0.03, 0.0, -0.01]\n"
     ]
    }
   ],
   "source": [
    "en_err, en_coef = regression(poly, 'elastic')"
   ]
  },
  {
   "cell_type": "code",
   "execution_count": 44,
   "metadata": {},
   "outputs": [
    {
     "data": {
      "text/plain": [
       "[<matplotlib.lines.Line2D at 0x11b8bf2d0>]"
      ]
     },
     "execution_count": 44,
     "metadata": {},
     "output_type": "execute_result"
    },
    {
     "data": {
      "image/png": "[encoded data removed]",
      "text/plain": [
       "<Figure size 432x288 with 1 Axes>"
      ]
     },
     "metadata": {
      "needs_background": "light"
     },
     "output_type": "display_data"
    }
   ],
   "source": [
    "plt.plot(lin_err)\n",
    "plt.plot(lasso_err)\n",
    "plt.plot(ridge_err)\n",
    "plt.plot(en_err)"
   ]
  },
  {
   "cell_type": "code",
   "execution_count": 56,
   "metadata": {},
   "outputs": [],
   "source": [
    "dic = {}\n",
    "dic['Lasso'] = lasso_err\n",
    "dic['Ridge'] = ridge_err\n",
    "dic['ElasticNet'] = en_err"
   ]
  },
  {
   "cell_type": "code",
   "execution_count": 57,
   "metadata": {},
   "outputs": [
    {
     "data": {
      "text/plain": [
       "<matplotlib.axes._subplots.AxesSubplot at 0x11c1a6ed0>"
      ]
     },
     "execution_count": 57,
     "metadata": {},
     "output_type": "execute_result"
    },
    {
     "data": {
      "image/png": "[encoded data removed]",
      "text/plain": [
       "<Figure size 432x288 with 1 Axes>"
      ]
     },
     "metadata": {
      "needs_background": "light"
     },
     "output_type": "display_data"
    }
   ],
   "source": [
    "pd.DataFrame(dic).plot()"
   ]
  },
  {
   "cell_type": "code",
   "execution_count": 81,
   "metadata": {},
   "outputs": [],
   "source": [
    "lasso = {}\n",
    "for i,v in enumerate(lasso_coef):\n",
    "    lasso[i] = v\n",
    "\n",
    "col = ['coef1','coef2','coef3','coef4','coef5','coef6','coef7','coef8','coef9','coef10','coef11','coef12','coef13']\n",
    "df_lasso = pd.DataFrame(lasso,index=col).T"
   ]
  },
  {
   "cell_type": "code",
   "execution_count": 82,
   "metadata": {},
   "outputs": [],
   "source": [
    "ridge = {}\n",
    "for i,v in enumerate(ridge_coef):\n",
    "    ridge[i] = v\n",
    "\n",
    "col = ['coef1','coef2','coef3','coef4','coef5','coef6','coef7','coef8','coef9','coef10','coef11','coef12','coef13']\n",
    "df_ridge = pd.DataFrame(ridge,index=col).T"
   ]
  },
  {
   "cell_type": "code",
   "execution_count": 83,
   "metadata": {},
   "outputs": [],
   "source": [
    "elastic = {}\n",
    "for i,v in enumerate(en_coef):\n",
    "    elastic[i] = v\n",
    "\n",
    "col = ['coef1','coef2','coef3','coef4','coef5','coef6','coef7','coef8','coef9','coef10','coef11','coef12','coef13']\n",
    "df_elastic = pd.DataFrame(elastic,index=col).T"
   ]
  },
  {
   "cell_type": "code",
   "execution_count": 85,
   "metadata": {},
   "outputs": [
    {
     "data": {
      "text/html": [
       "<div>\n",
       "<style scoped>\n",
       "    .dataframe tbody tr th:only-of-type {\n",
       "        vertical-align: middle;\n",
       "    }\n",
       "\n",
       "    .dataframe tbody tr th {\n",
       "        vertical-align: top;\n",
       "    }\n",
       "\n",
       "    .dataframe thead th {\n",
       "        text-align: right;\n",
       "    }\n",
       "</style>\n",
       "<table border=\"1\" class=\"dataframe\">\n",
       "  <thead>\n",
       "    <tr style=\"text-align: right;\">\n",
       "      <th></th>\n",
       "      <th>coef1</th>\n",
       "      <th>coef2</th>\n",
       "      <th>coef3</th>\n",
       "      <th>coef4</th>\n",
       "      <th>coef5</th>\n",
       "      <th>coef6</th>\n",
       "      <th>coef7</th>\n",
       "      <th>coef8</th>\n",
       "      <th>coef9</th>\n",
       "      <th>coef10</th>\n",
       "      <th>coef11</th>\n",
       "      <th>coef12</th>\n",
       "      <th>coef13</th>\n",
       "    </tr>\n",
       "  </thead>\n",
       "  <tbody>\n",
       "    <tr>\n",
       "      <th>0</th>\n",
       "      <td>-0.11</td>\n",
       "      <td>0.04</td>\n",
       "      <td>-0.05</td>\n",
       "      <td>3.21</td>\n",
       "      <td>-17.22</td>\n",
       "      <td>3.96</td>\n",
       "      <td>-0.01</td>\n",
       "      <td>-1.51</td>\n",
       "      <td>0.35</td>\n",
       "      <td>-0.01</td>\n",
       "      <td>-0.92</td>\n",
       "      <td>0.01</td>\n",
       "      <td>-0.45</td>\n",
       "    </tr>\n",
       "    <tr>\n",
       "      <th>1</th>\n",
       "      <td>0.07</td>\n",
       "      <td>-0.23</td>\n",
       "      <td>0.42</td>\n",
       "      <td>0.00</td>\n",
       "      <td>0.00</td>\n",
       "      <td>-0.00</td>\n",
       "      <td>0.11</td>\n",
       "      <td>-0.00</td>\n",
       "      <td>0.00</td>\n",
       "      <td>-0.00</td>\n",
       "      <td>-0.00</td>\n",
       "      <td>0.04</td>\n",
       "      <td>-0.29</td>\n",
       "    </tr>\n",
       "    <tr>\n",
       "      <th>2</th>\n",
       "      <td>-0.00</td>\n",
       "      <td>-0.00</td>\n",
       "      <td>0.00</td>\n",
       "      <td>0.00</td>\n",
       "      <td>-0.00</td>\n",
       "      <td>0.00</td>\n",
       "      <td>0.00</td>\n",
       "      <td>-0.62</td>\n",
       "      <td>0.32</td>\n",
       "      <td>0.00</td>\n",
       "      <td>-0.00</td>\n",
       "      <td>0.00</td>\n",
       "      <td>-0.00</td>\n",
       "    </tr>\n",
       "    <tr>\n",
       "      <th>3</th>\n",
       "      <td>-0.00</td>\n",
       "      <td>0.00</td>\n",
       "      <td>-0.00</td>\n",
       "      <td>-0.00</td>\n",
       "      <td>-0.00</td>\n",
       "      <td>0.00</td>\n",
       "      <td>0.05</td>\n",
       "      <td>-0.94</td>\n",
       "      <td>0.00</td>\n",
       "      <td>0.00</td>\n",
       "      <td>-0.00</td>\n",
       "      <td>0.00</td>\n",
       "      <td>-0.00</td>\n",
       "    </tr>\n",
       "    <tr>\n",
       "      <th>4</th>\n",
       "      <td>-0.00</td>\n",
       "      <td>-0.00</td>\n",
       "      <td>0.00</td>\n",
       "      <td>0.00</td>\n",
       "      <td>-0.00</td>\n",
       "      <td>0.00</td>\n",
       "      <td>0.00</td>\n",
       "      <td>-0.00</td>\n",
       "      <td>0.00</td>\n",
       "      <td>0.00</td>\n",
       "      <td>-0.00</td>\n",
       "      <td>0.00</td>\n",
       "      <td>-0.00</td>\n",
       "    </tr>\n",
       "  </tbody>\n",
       "</table>\n",
       "</div>"
      ],
      "text/plain": [
       "   coef1  coef2  coef3  coef4  coef5  coef6  coef7  coef8  coef9  coef10  \\\n",
       "0  -0.11   0.04  -0.05   3.21 -17.22   3.96  -0.01  -1.51   0.35   -0.01   \n",
       "1   0.07  -0.23   0.42   0.00   0.00  -0.00   0.11  -0.00   0.00   -0.00   \n",
       "2  -0.00  -0.00   0.00   0.00  -0.00   0.00   0.00  -0.62   0.32    0.00   \n",
       "3  -0.00   0.00  -0.00  -0.00  -0.00   0.00   0.05  -0.94   0.00    0.00   \n",
       "4  -0.00  -0.00   0.00   0.00  -0.00   0.00   0.00  -0.00   0.00    0.00   \n",
       "\n",
       "   coef11  coef12  coef13  \n",
       "0   -0.92    0.01   -0.45  \n",
       "1   -0.00    0.04   -0.29  \n",
       "2   -0.00    0.00   -0.00  \n",
       "3   -0.00    0.00   -0.00  \n",
       "4   -0.00    0.00   -0.00  "
      ]
     },
     "execution_count": 85,
     "metadata": {},
     "output_type": "execute_result"
    }
   ],
   "source": [
    "df_lasso"
   ]
  },
  {
   "cell_type": "code",
   "execution_count": 86,
   "metadata": {},
   "outputs": [
    {
     "data": {
      "text/html": [
       "<div>\n",
       "<style scoped>\n",
       "    .dataframe tbody tr th:only-of-type {\n",
       "        vertical-align: middle;\n",
       "    }\n",
       "\n",
       "    .dataframe tbody tr th {\n",
       "        vertical-align: top;\n",
       "    }\n",
       "\n",
       "    .dataframe thead th {\n",
       "        text-align: right;\n",
       "    }\n",
       "</style>\n",
       "<table border=\"1\" class=\"dataframe\">\n",
       "  <thead>\n",
       "    <tr style=\"text-align: right;\">\n",
       "      <th></th>\n",
       "      <th>coef1</th>\n",
       "      <th>coef2</th>\n",
       "      <th>coef3</th>\n",
       "      <th>coef4</th>\n",
       "      <th>coef5</th>\n",
       "      <th>coef6</th>\n",
       "      <th>coef7</th>\n",
       "      <th>coef8</th>\n",
       "      <th>coef9</th>\n",
       "      <th>coef10</th>\n",
       "      <th>coef11</th>\n",
       "      <th>coef12</th>\n",
       "      <th>coef13</th>\n",
       "    </tr>\n",
       "  </thead>\n",
       "  <tbody>\n",
       "    <tr>\n",
       "      <th>0</th>\n",
       "      <td>-0.08</td>\n",
       "      <td>0.02</td>\n",
       "      <td>-0.09</td>\n",
       "      <td>3.41</td>\n",
       "      <td>-11.05</td>\n",
       "      <td>4.16</td>\n",
       "      <td>-0.01</td>\n",
       "      <td>-1.03</td>\n",
       "      <td>0.16</td>\n",
       "      <td>-0.0</td>\n",
       "      <td>-0.81</td>\n",
       "      <td>0.01</td>\n",
       "      <td>-0.40</td>\n",
       "    </tr>\n",
       "    <tr>\n",
       "      <th>1</th>\n",
       "      <td>0.00</td>\n",
       "      <td>-0.01</td>\n",
       "      <td>0.03</td>\n",
       "      <td>0.27</td>\n",
       "      <td>-2.50</td>\n",
       "      <td>1.64</td>\n",
       "      <td>0.01</td>\n",
       "      <td>-0.21</td>\n",
       "      <td>0.08</td>\n",
       "      <td>-0.0</td>\n",
       "      <td>-0.22</td>\n",
       "      <td>0.00</td>\n",
       "      <td>-0.04</td>\n",
       "    </tr>\n",
       "    <tr>\n",
       "      <th>2</th>\n",
       "      <td>0.00</td>\n",
       "      <td>-0.01</td>\n",
       "      <td>0.01</td>\n",
       "      <td>-0.10</td>\n",
       "      <td>0.58</td>\n",
       "      <td>0.89</td>\n",
       "      <td>0.01</td>\n",
       "      <td>-0.17</td>\n",
       "      <td>0.05</td>\n",
       "      <td>0.0</td>\n",
       "      <td>-0.10</td>\n",
       "      <td>0.00</td>\n",
       "      <td>-0.01</td>\n",
       "    </tr>\n",
       "    <tr>\n",
       "      <th>3</th>\n",
       "      <td>0.00</td>\n",
       "      <td>-0.00</td>\n",
       "      <td>-0.01</td>\n",
       "      <td>-0.18</td>\n",
       "      <td>0.21</td>\n",
       "      <td>0.67</td>\n",
       "      <td>0.01</td>\n",
       "      <td>-0.11</td>\n",
       "      <td>0.03</td>\n",
       "      <td>0.0</td>\n",
       "      <td>-0.06</td>\n",
       "      <td>0.00</td>\n",
       "      <td>-0.01</td>\n",
       "    </tr>\n",
       "    <tr>\n",
       "      <th>4</th>\n",
       "      <td>-0.00</td>\n",
       "      <td>-0.00</td>\n",
       "      <td>-0.00</td>\n",
       "      <td>-0.03</td>\n",
       "      <td>-0.03</td>\n",
       "      <td>0.22</td>\n",
       "      <td>0.00</td>\n",
       "      <td>-0.02</td>\n",
       "      <td>0.01</td>\n",
       "      <td>0.0</td>\n",
       "      <td>-0.02</td>\n",
       "      <td>0.00</td>\n",
       "      <td>-0.00</td>\n",
       "    </tr>\n",
       "  </tbody>\n",
       "</table>\n",
       "</div>"
      ],
      "text/plain": [
       "   coef1  coef2  coef3  coef4  coef5  coef6  coef7  coef8  coef9  coef10  \\\n",
       "0  -0.08   0.02  -0.09   3.41 -11.05   4.16  -0.01  -1.03   0.16    -0.0   \n",
       "1   0.00  -0.01   0.03   0.27  -2.50   1.64   0.01  -0.21   0.08    -0.0   \n",
       "2   0.00  -0.01   0.01  -0.10   0.58   0.89   0.01  -0.17   0.05     0.0   \n",
       "3   0.00  -0.00  -0.01  -0.18   0.21   0.67   0.01  -0.11   0.03     0.0   \n",
       "4  -0.00  -0.00  -0.00  -0.03  -0.03   0.22   0.00  -0.02   0.01     0.0   \n",
       "\n",
       "   coef11  coef12  coef13  \n",
       "0   -0.81    0.01   -0.40  \n",
       "1   -0.22    0.00   -0.04  \n",
       "2   -0.10    0.00   -0.01  \n",
       "3   -0.06    0.00   -0.01  \n",
       "4   -0.02    0.00   -0.00  "
      ]
     },
     "execution_count": 86,
     "metadata": {},
     "output_type": "execute_result"
    }
   ],
   "source": [
    "df_ridge"
   ]
  },
  {
   "cell_type": "code",
   "execution_count": 87,
   "metadata": {},
   "outputs": [
    {
     "data": {
      "text/html": [
       "<div>\n",
       "<style scoped>\n",
       "    .dataframe tbody tr th:only-of-type {\n",
       "        vertical-align: middle;\n",
       "    }\n",
       "\n",
       "    .dataframe tbody tr th {\n",
       "        vertical-align: top;\n",
       "    }\n",
       "\n",
       "    .dataframe thead th {\n",
       "        text-align: right;\n",
       "    }\n",
       "</style>\n",
       "<table border=\"1\" class=\"dataframe\">\n",
       "  <thead>\n",
       "    <tr style=\"text-align: right;\">\n",
       "      <th></th>\n",
       "      <th>coef1</th>\n",
       "      <th>coef2</th>\n",
       "      <th>coef3</th>\n",
       "      <th>coef4</th>\n",
       "      <th>coef5</th>\n",
       "      <th>coef6</th>\n",
       "      <th>coef7</th>\n",
       "      <th>coef8</th>\n",
       "      <th>coef9</th>\n",
       "      <th>coef10</th>\n",
       "      <th>coef11</th>\n",
       "      <th>coef12</th>\n",
       "      <th>coef13</th>\n",
       "    </tr>\n",
       "  </thead>\n",
       "  <tbody>\n",
       "    <tr>\n",
       "      <th>0</th>\n",
       "      <td>-0.08</td>\n",
       "      <td>0.02</td>\n",
       "      <td>-0.10</td>\n",
       "      <td>3.39</td>\n",
       "      <td>-10.13</td>\n",
       "      <td>4.16</td>\n",
       "      <td>-0.01</td>\n",
       "      <td>-0.94</td>\n",
       "      <td>0.13</td>\n",
       "      <td>-0.0</td>\n",
       "      <td>-0.78</td>\n",
       "      <td>0.01</td>\n",
       "      <td>-0.39</td>\n",
       "    </tr>\n",
       "    <tr>\n",
       "      <th>1</th>\n",
       "      <td>-0.00</td>\n",
       "      <td>-0.00</td>\n",
       "      <td>0.02</td>\n",
       "      <td>0.17</td>\n",
       "      <td>-2.79</td>\n",
       "      <td>1.58</td>\n",
       "      <td>0.00</td>\n",
       "      <td>-0.16</td>\n",
       "      <td>0.07</td>\n",
       "      <td>-0.0</td>\n",
       "      <td>-0.24</td>\n",
       "      <td>0.00</td>\n",
       "      <td>-0.05</td>\n",
       "    </tr>\n",
       "    <tr>\n",
       "      <th>2</th>\n",
       "      <td>0.00</td>\n",
       "      <td>-0.00</td>\n",
       "      <td>0.02</td>\n",
       "      <td>-0.00</td>\n",
       "      <td>0.28</td>\n",
       "      <td>0.81</td>\n",
       "      <td>0.00</td>\n",
       "      <td>-0.12</td>\n",
       "      <td>0.04</td>\n",
       "      <td>0.0</td>\n",
       "      <td>-0.10</td>\n",
       "      <td>0.00</td>\n",
       "      <td>-0.01</td>\n",
       "    </tr>\n",
       "    <tr>\n",
       "      <th>3</th>\n",
       "      <td>-0.00</td>\n",
       "      <td>-0.00</td>\n",
       "      <td>-0.00</td>\n",
       "      <td>-0.00</td>\n",
       "      <td>0.00</td>\n",
       "      <td>0.57</td>\n",
       "      <td>0.00</td>\n",
       "      <td>-0.07</td>\n",
       "      <td>0.02</td>\n",
       "      <td>0.0</td>\n",
       "      <td>-0.07</td>\n",
       "      <td>0.00</td>\n",
       "      <td>-0.01</td>\n",
       "    </tr>\n",
       "    <tr>\n",
       "      <th>4</th>\n",
       "      <td>-0.00</td>\n",
       "      <td>-0.00</td>\n",
       "      <td>-0.00</td>\n",
       "      <td>-0.00</td>\n",
       "      <td>-0.00</td>\n",
       "      <td>0.33</td>\n",
       "      <td>0.00</td>\n",
       "      <td>-0.03</td>\n",
       "      <td>0.01</td>\n",
       "      <td>-0.0</td>\n",
       "      <td>-0.03</td>\n",
       "      <td>0.00</td>\n",
       "      <td>-0.01</td>\n",
       "    </tr>\n",
       "  </tbody>\n",
       "</table>\n",
       "</div>"
      ],
      "text/plain": [
       "   coef1  coef2  coef3  coef4  coef5  coef6  coef7  coef8  coef9  coef10  \\\n",
       "0  -0.08   0.02  -0.10   3.39 -10.13   4.16  -0.01  -0.94   0.13    -0.0   \n",
       "1  -0.00  -0.00   0.02   0.17  -2.79   1.58   0.00  -0.16   0.07    -0.0   \n",
       "2   0.00  -0.00   0.02  -0.00   0.28   0.81   0.00  -0.12   0.04     0.0   \n",
       "3  -0.00  -0.00  -0.00  -0.00   0.00   0.57   0.00  -0.07   0.02     0.0   \n",
       "4  -0.00  -0.00  -0.00  -0.00  -0.00   0.33   0.00  -0.03   0.01    -0.0   \n",
       "\n",
       "   coef11  coef12  coef13  \n",
       "0   -0.78    0.01   -0.39  \n",
       "1   -0.24    0.00   -0.05  \n",
       "2   -0.10    0.00   -0.01  \n",
       "3   -0.07    0.00   -0.01  \n",
       "4   -0.03    0.00   -0.01  "
      ]
     },
     "execution_count": 87,
     "metadata": {},
     "output_type": "execute_result"
    }
   ],
   "source": [
    "df_elastic"
   ]
  },
  {
   "cell_type": "code",
   "execution_count": null,
   "metadata": {},
   "outputs": [],
   "source": []
  },
  {
   "cell_type": "markdown",
   "metadata": {},
   "source": [
    "### End Note"
   ]
  },
  {
   "cell_type": "code",
   "execution_count": null,
   "metadata": {},
   "outputs": [],
   "source": []
  },
  {
   "cell_type": "markdown",
   "metadata": {},
   "source": [
    "---"
   ]
  },
  {
   "cell_type": "markdown",
   "metadata": {},
   "source": [
    "## Reference :"
   ]
  },
  {
   "cell_type": "markdown",
   "metadata": {},
   "source": [
    "https://towardsdatascience.com/linear-regression-on-boston-housing-dataset-f409b7e4a155\n",
    "\n",
    "https://towardsdatascience.com/object-oriented-programming-for-data-scientists-build-your-ml-estimator-7da416751f64\n",
    "\n",
    "https://stats.stackexchange.com/questions/336860/derivation-of-the-closed-form-solution-to-minimizing-the-least-squares-cost-func\n",
    "\n",
    "https://medium.com/@pytholabs/multivariate-linear-regression-from-scratch-in-python-5c4f219be6a\n",
    "\n",
    "https://towardsdatascience.com/l1-and-l2-regularization-methods-ce25e7fc831c\n",
    "\n",
    "https://github.com/pavannaik3009/BostonHousingProject/blob/master/Regularization%20for%20Regression.ipynb"
   ]
  }
 ],
 "metadata": {
  "kernelspec": {
   "display_name": "Python 3",
   "language": "python",
   "name": "python3"
  },
  "language_info": {
   "codemirror_mode": {
    "name": "ipython",
    "version": 3
   },
   "file_extension": ".py",
   "mimetype": "text/x-python",
   "name": "python",
   "nbconvert_exporter": "python",
   "pygments_lexer": "ipython3",
   "version": "3.7.6"
  }
 },
 "nbformat": 4,
 "nbformat_minor": 4
}

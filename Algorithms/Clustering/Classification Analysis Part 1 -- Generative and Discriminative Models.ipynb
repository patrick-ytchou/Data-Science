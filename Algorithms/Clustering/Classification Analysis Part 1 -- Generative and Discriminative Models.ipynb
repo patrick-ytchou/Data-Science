{
 "cells": [
  {
   "cell_type": "markdown",
   "metadata": {},
   "source": [
    "https://medium.com/@mlengineer/generative-and-discriminative-models-af5637a66a3\n",
    "\n",
    "https://stackoverflow.com/questions/879432/what-is-the-difference-between-a-generative-and-a-discriminative-algorithm\n",
    "\n",
    "https://cedar.buffalo.edu/~srihari/CSE574/Discriminative-Generative.pdf\n",
    "\n",
    "https://taweihuang.hpd.io/2017/03/21/mlbayes/\n",
    "\n",
    "https://medium.com/swlh/machine-learning-generative-vs-discriminative-models-9d0fdd156296\n",
    "\n",
    "https://stats.stackexchange.com/questions/285891/regression-vs-classification-and-generative-vs-discriminative\n",
    "\n",
    "https://www.gooseeker.com/cn/node/knowledgebase/discriminative_generative_model\n",
    "\n",
    "http://thu-cmu.cs.tsinghua.edu.cn/curriculum/ML/files/3-Discriminative&Generative%20brief.pdf"
   ]
  },
  {
   "cell_type": "markdown",
   "metadata": {},
   "source": [
    "Maximum likelihood estimation 可以看一下 LHY ppt"
   ]
  }
 ],
 "metadata": {
  "kernelspec": {
   "display_name": "Python 3",
   "language": "python",
   "name": "python3"
  },
  "language_info": {
   "codemirror_mode": {
    "name": "ipython",
    "version": 3
   },
   "file_extension": ".py",
   "mimetype": "text/x-python",
   "name": "python",
   "nbconvert_exporter": "python",
   "pygments_lexer": "ipython3",
   "version": "3.7.6"
  }
 },
 "nbformat": 4,
 "nbformat_minor": 4
}

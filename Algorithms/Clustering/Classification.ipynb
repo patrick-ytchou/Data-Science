{
 "cells": [
  {
   "cell_type": "markdown",
   "metadata": {},
   "source": [
    "**Why can't we use regression to solve classification problem?**\n",
    "\n",
    "It will penalize the examples that are \"too correct\", since they want to make most data to be as close to 1 / -1 as possible.\n",
    "\n",
    "(bishop, p.186)"
   ]
  }
 ],
 "metadata": {
  "kernelspec": {
   "display_name": "Python 3",
   "language": "python",
   "name": "python3"
  },
  "language_info": {
   "codemirror_mode": {
    "name": "ipython",
    "version": 3
   },
   "file_extension": ".py",
   "mimetype": "text/x-python",
   "name": "python",
   "nbconvert_exporter": "python",
   "pygments_lexer": "ipython3",
   "version": "3.7.6"
  }
 },
 "nbformat": 4,
 "nbformat_minor": 4
}
